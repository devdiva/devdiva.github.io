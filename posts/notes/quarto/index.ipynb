{
  "cells": [
    {
      "cell_type": "raw",
      "metadata": {},
      "source": [
        "---\n",
        "title: \"A look at Quarto...\"\n",
        "date: \"2023-07-03\"\n",
        "# draft: true\n",
        "categories: [static site, document, markdown, publishing, framework]\n",
        "---"
      ],
      "id": "aae82dff"
    },
    {
      "cell_type": "markdown",
      "metadata": {},
      "source": [
        "Markdown (qmd)\n",
        "\n",
        "- Mermaid\n",
        "- Graphviz\n",
        "- R\n",
        "- Python\n",
        "- Observable JS\n",
        "\n",
        "Code block rendering\n"
      ],
      "id": "a19a8006"
    },
    {
      "cell_type": "code",
      "metadata": {},
      "source": [
        "x = 1"
      ],
      "id": "95b2dbe4",
      "execution_count": null,
      "outputs": []
    },
    {
      "cell_type": "markdown",
      "metadata": {},
      "source": [
        "```{ojs}\n",
        "window.alert('hi');\n",
        "```\n",
        "\n",
        "\n",
        "```html\n",
        "<a href=\"#\">foo</a>\n",
        "```\n",
        "\n",
        "```css\n",
        ".foo { \n",
        "  color: \"#000\";\n",
        "  width: 100px;\n",
        "}\n",
        "```\n",
        "\n",
        "\n",
        "Resources:\n",
        "\n",
        "* https://quarto.org/\n",
        "* https://quarto.org/docs/guide/\n",
        "* https://quarto.org/docs/extensions/creating.html\n"
      ],
      "id": "706e9f4b"
    }
  ],
  "metadata": {
    "kernelspec": {
      "display_name": "Python 3",
      "language": "python",
      "name": "python3"
    }
  },
  "nbformat": 4,
  "nbformat_minor": 5
}